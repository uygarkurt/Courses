{
 "cells": [
  {
   "cell_type": "markdown",
   "metadata": {
    "id": "SgNZTjrhcHa0"
   },
   "source": [
    "## Homework 0, CS685 Spring 2022\n",
    "\n",
    "### This is due on February 4th, 2022, submitted via Gradescope as a PDF (File>Print>Save as PDF). 100 points total.\n",
    "\n",
    "#### IMPORTANT: After copying this notebook to your Google Drive, please paste a link to it below. To get a publicly-accessible link, hit the *Share* button at the top right, then click \"Get shareable link\" and copy over the result. If you fail to do this, you will receive no credit for this homework!\n",
    "***LINK: *paste your link here****\n",
    "\n",
    "---\n",
    "\n",
    "##### *How to do this problem set:*\n",
    "\n",
    "- Some questions require writing Python code and computing results, and the rest of them have written answers. For coding problems, you will have to fill out all code blocks that say `YOUR CODE HERE`.\n",
    "\n",
    "- For text-based answers, you should replace the text that says \"Write your answer here...\" with your actual answer.\n",
    " \n",
    "- This assignment is designed so that you can run all cells almost instantly. If it is taking longer than that, you have made a mistake in your code.\n",
    "\n",
    "---\n",
    "\n",
    "##### *How to submit this problem set:*\n",
    "- Write all the answers in this Colab notebook. Once you are finished, generate a PDF via (File -> Print -> Save as PDF) and upload it to Gradescope.\n",
    "  \n",
    "- **Important:** check your PDF before you submit to Gradescope to make sure it exported correctly. If Colab gets confused about your syntax, it will sometimes terminate the PDF creation routine early.\n",
    "\n",
    "- **Important:** on Gradescope, please make sure that you tag each page with the corresponding question(s). This makes it significantly easier for our graders to grade submissions. We may take off points for submissions that are not tagged.\n",
    "\n",
    "- When creating your final version of the PDF to hand in, please do a fresh restart and execute every cell in order. Then you'll be sure it's actually right. One handy way to do this is by clicking `Runtime -> Run All` in the notebook menu.\n",
    "\n",
    "---\n",
    "\n",
    "##### *Academic honesty*\n",
    "\n",
    "- We will audit the Colab notebooks from a set number of students, chosen at random. The audits will check that the code you wrote actually generates the answers in your PDF. If you turn in correct answers on your PDF without code that actually generates those answers, we will consider this a serious case of cheating. See the course page for honesty policies.\n",
    "\n",
    "- We will also run automatic checks of Colab notebooks for plagiarism. Copying code from others is also considered a serious case of cheating.\n",
    "\n",
    "---"
   ]
  },
  {
   "cell_type": "markdown",
   "metadata": {
    "id": "Jxa48WP8dXh9"
   },
   "source": [
    "##Question 1.1 (10 points)\n",
    "Let's begin with a quick probability review. In the task of language modeling, we're interested in computing the **joint** probability of some text. Say we have a sentence $s$ with $n$ words ($w_1, w_2, w_3, \\dots, w_n$) and we want to compute the joint probability $P(w_1, w_2, w_3, \\dots, w_n$). Assume we are given a model that produces the conditional probability of the next word in a sentence given all preceding words: $P(w_i|w_1,w_2,\\dots,w_{i-1})$. How can we use this model to compute the joint probability of sentence $s$?\n",
    "\n",
    "---\n"
   ]
  },
  {
   "cell_type": "markdown",
   "metadata": {
    "id": "NyrvDudjbPUO"
   },
   "source": [
    "**Write your answer here!** Please include an equation(s) formatted in LaTeX in your answer. You can add LaTeX to your answer by wrapping it in $ signs; see the above cell for examples. \n",
    "\n",
    "We know that\n",
    "$P(w1,w2,w3...,wn) = P(w1|w2,w3,..,wn-1)P(w2|w3, ...,wn-2) ... P(wn)$\n",
    "\n",
    "We're given that we know $P(wi|w1, w2, w3, ..., wn-1)$ for $i\\epsilon n$,\n",
    "Hence we can calculate the equation."
   ]
  },
  {
   "cell_type": "markdown",
   "metadata": {
    "id": "zsq0NIDzcfeC"
   },
   "source": [
    "##Question 1.2 (10 points)\n",
    "Why would we ever want to compute the joint probability of a sentence? Provide **two** different reasons why this probability might be useful to solve an NLP task.\n",
    "\n",
    "---"
   ]
  },
  {
   "cell_type": "markdown",
   "metadata": {
    "id": "9JLR5ML-dQ2t"
   },
   "source": [
    "**Write your answer here!** Please keep it brief (i.e., 2-3 sentences).\n",
    "\n",
    "Probability of a Sentence: We want to compute probability of a sentence containing specific words happening. So we can have joint probability of all the words.\n",
    "\n",
    "N-Gram Language Model: Task of predicting the next word given the previous words. We can use conditional probability for this."
   ]
  },
  {
   "cell_type": "markdown",
   "metadata": {
    "id": "EM2aVbUcYPXv"
   },
   "source": [
    "##Question 1.3 (5 points)\n",
    "Here is a simple way to build a language model: for any prefix $w_1, w_2, \\dots, w_{i-1}$, retrieve all occurrences of that prefix in some huge text corpus (such as the [Common Crawl](https://https://commoncrawl.org/)) and keep count of the word $w_i$ that follows each occurrence. I can then use this to estimate the conditional probability $P(w_i|w_1, w_2, \\dots, w_{i-1})$ for any prefix. Explain why this method is completely impractical!\n",
    "\n",
    "---"
   ]
  },
  {
   "cell_type": "markdown",
   "metadata": {
    "id": "crODlcAKfGcu"
   },
   "source": [
    "**Write your answer here!** Please keep it brief (i.e., 2-3 sentences).\n",
    "\n",
    "It becomes computationally cumbersome if we consider we have a huge corpus. Additionally we can't keep track of the long-distance dependincies."
   ]
  },
  {
   "cell_type": "markdown",
   "metadata": {
    "id": "r1_cCBOwfPxI"
   },
   "source": [
    "##Question 2.1 (5 points)\n",
    "Let's switch over to coding! The below coding cell contains the opening paragraph of Daphne du Maurier's novel *Rebecca*. Write some code in this cell to compute the number of unique word **types** and total word **tokens** in this paragraph (watch the lecture videos if you're confused about what these terms mean!). Use a whitespace tokenizer to separate words (i.e., split the string on white space using Python's split function). Be sure that the cell's output is visible in the PDF file you turn in on Gradescope.\n",
    "\n",
    "---\n"
   ]
  },
  {
   "cell_type": "code",
   "execution_count": 1,
   "metadata": {
    "colab": {
     "base_uri": "https://localhost:8080/"
    },
    "id": "W9Fm6AQJQDFa",
    "outputId": "d683e168-2fa1-4aa2-a116-bdc5743888d8"
   },
   "outputs": [
    {
     "name": "stdout",
     "output_type": "stream",
     "text": [
      "Number of word types: 76, number of word tokens:100\n"
     ]
    }
   ],
   "source": [
    "paragraph = '''Last night I dreamed I went to Manderley again. It seemed to me\n",
    "that I was passing through the iron gates that led to the driveway.\n",
    "The drive was just a narrow track now, its stony surface covered\n",
    "with grass and weeds. Sometimes, when I thought I had lost it, it\n",
    "would appear again, beneath a fallen tree or beyond a muddy pool \n",
    "formed by the winter rains. The trees had thrown out new\n",
    "low branches which stretched across my way. I came to the house\n",
    "suddenly, and stood there with my heart beating fast and tears\n",
    "filling my eyes.'''.lower() # lowercase normalization is often useful in NLP\n",
    "\n",
    "types = 0\n",
    "tokens = 0\n",
    "\n",
    "# YOUR CODE HERE! POPULATE THE types AND tokens VARIABLES WITH THE CORRECT VALUES!\n",
    "tokenized = paragraph.split()\n",
    "types = len(list(set(tokenized)))\n",
    "tokens = len(tokenized)\n",
    "# DO NOT MODIFY THE BELOW LINE!\n",
    "print('Number of word types: %d, number of word tokens:%d' % (types, tokens))"
   ]
  },
  {
   "cell_type": "markdown",
   "metadata": {
    "id": "_5f5YpclYjbh"
   },
   "source": [
    "##Question 2.2 (5 points)\n",
    "Now let's look at the most frequently used word **types** in this paragraph. Write some code in the below cell to print out the ten most frequently-occurring types. We have initialized a [Counter](https://docs.python.org/2/library/collections.html#collections.Counter) object that you should use for this purpose. In general, Counters are very useful for text processing in Python.\n",
    "\n",
    "---\n"
   ]
  },
  {
   "cell_type": "code",
   "execution_count": 2,
   "metadata": {
    "colab": {
     "base_uri": "https://localhost:8080/"
    },
    "id": "rpjx2fGbh_tp",
    "outputId": "c82e9b48-883c-4dde-9d48-83bc2da0da7e"
   },
   "outputs": [
    {
     "name": "stdout",
     "output_type": "stream",
     "text": [
      "i 6\n",
      "the 6\n",
      "to 4\n",
      "a 3\n",
      "and 3\n",
      "my 3\n",
      "it 2\n",
      "that 2\n",
      "was 2\n",
      "with 2\n"
     ]
    }
   ],
   "source": [
    "from collections import Counter\n",
    "c = Counter(tokenized)\n",
    "# DO NOT MODIFY THE BELOW LINES!\n",
    "for word, count in c.most_common()[:10]:\n",
    "    print(word, count)"
   ]
  },
  {
   "cell_type": "markdown",
   "metadata": {
    "id": "NQfA98xLjIv9"
   },
   "source": [
    "##Question 2.3 (5 points)\n",
    "What do you notice about these words and their linguistic functions (i.e., parts-of-speech)? These words are known as \"stopwords\" in NLP and are often removed from the text before any computational modeling is done. Why do you think that is?\n",
    "\n",
    "---"
   ]
  },
  {
   "cell_type": "markdown",
   "metadata": {
    "id": "0jj042SWkFvP"
   },
   "source": [
    "\n",
    "**Write your answer here!** Please keep it brief (i.e., 2-3 sentences).\n",
    "\n",
    "They're most frequent types of words belong to the specific POS categories. They usually doesn't contain a specific meaning for the task at hand and create noise."
   ]
  },
  {
   "cell_type": "markdown",
   "metadata": {
    "id": "y9OxWy-CYlp4"
   },
   "source": [
    "##Question 3.1 (10 points)\n",
    "In *neural* language models, we represent words with low-dimensional vectors also called *embeddings*. We use these embeddings to compute a vector representation $\\boldsymbol{x}$ of a given prefix, and then predict the probability of the next word conditioned on $\\boldsymbol{x}$. In the below cell, we use [PyTorch](https://pytorch.org), a machine learning framework, to explore this setup. We provide embeddings for the prefix \"Alice talked to\"; your job is to combine them into a single vector representation $\\boldsymbol{x}$ using [element-wise vector addition](https://ml-cheatsheet.readthedocs.io/en/latest/linear_algebra.html#elementwise-operations). \n",
    "\n",
    "*TIP: if you're finding the PyTorch coding problems difficult, you may want to run through [the 60 minutes blitz tutorial](https://pytorch.org/tutorials/beginner/deep_learning_60min_blitz.html)!*\n",
    "\n",
    "---"
   ]
  },
  {
   "cell_type": "code",
   "execution_count": 3,
   "metadata": {
    "colab": {
     "base_uri": "https://localhost:8080/"
    },
    "id": "Su_j1JY1QG5f",
    "outputId": "910a0b0a-fd67-44e1-ae97-2c3ebc1f1551"
   },
   "outputs": [
    {
     "name": "stdout",
     "output_type": "stream",
     "text": [
      "prefix embedding tensor size:  torch.Size([3, 10])\n",
      "embedding sum:  tensor([-0.1770, -2.3993, -0.4721,  2.6568,  2.7157, -0.1408, -1.8421, -3.6277,\n",
      "         2.2783,  1.1165], grad_fn=<AddBackward0>)\n"
     ]
    }
   ],
   "source": [
    "import torch\n",
    "torch.set_printoptions(sci_mode=False)\n",
    "torch.manual_seed(0)\n",
    "\n",
    "prefix = 'Alice talked to'\n",
    "\n",
    "# spend some time understanding this code / reading relevant documentation! \n",
    "# this is a toy problem with a 5 word vocabulary and 10-d embeddings\n",
    "embeddings = torch.nn.Embedding(num_embeddings=5, embedding_dim=10)\n",
    "vocab = {'Alice':0, 'talked':1, 'to':2, 'Bob':3, '.':4}\n",
    "\n",
    "# we need to encode our prefix as integer indices (not words) that index \n",
    "# into the embeddings matrix. the below line accomplishes this.\n",
    "# note that PyTorch inputs are always Tensor objects, so we need\n",
    "# to create a LongTensor out of our list of indices first.\n",
    "indices = torch.LongTensor([vocab[w] for w in prefix.split()])\n",
    "prefix_embs = embeddings(indices)\n",
    "print('prefix embedding tensor size: ', prefix_embs.size())\n",
    "\n",
    "# okay! we now have three embeddings corresponding to each of the three\n",
    "# words in the prefix. write some code that adds them element-wise to obtain\n",
    "# a representation of the prefix! store your answer in a variable named \"x\".\n",
    "\n",
    "### YOUR CODE HERE!\n",
    "x = torch.zeros(10)\n",
    "for emb in prefix_embs:\n",
    "  x += emb\n",
    "\n",
    "### DO NOT MODIFY THE BELOW LINE\n",
    "print('embedding sum: ', x)\n"
   ]
  },
  {
   "cell_type": "markdown",
   "metadata": {
    "id": "F41LYDeoZPYI"
   },
   "source": [
    "##Question 3.2 (5 points)\n",
    "Modern language models do not use element-wise addition to combine the different word embeddings in the prefix into a single representation (a process called *composition*). What is a major issue with element-wise functions that makes them unsuitable for use as composition functions? \n",
    "\n",
    "---"
   ]
  },
  {
   "cell_type": "markdown",
   "metadata": {
    "id": "5MaDZekXs0C7"
   },
   "source": [
    "**Write your answer here!** Please keep it brief (i.e., 2-3 sentences).\n",
    "\n",
    "Sentences are ordered. If we use element-wise addition we may end up with a final value but we would have lost the ordering of the sentence."
   ]
  },
  {
   "cell_type": "markdown",
   "metadata": {
    "id": "b-xGz2_cZVs7"
   },
   "source": [
    "##Question 3.3 (10 points)\n",
    "One very important function in neural language models (and for basically every task we'll look at this semester) is the [softmax](https://pytorch.org/docs/master/nn.functional.html#softmax), which is defined over an $n$-dimensional vector $<x_1, x_2, \\dots, x_n>$ as $\\text{softmax}(x_i) = \\frac{e^{x_i}}{\\sum_{1 \\leq j \\leq n} e^{x_j}}$. Let's say we have our prefix representation $\\boldsymbol{x}$ from before. We can use the softmax function, along with a linear projection using a matrix $W$, to go from $\\boldsymbol{x}$ to a probability distribution $p$ over the next word: $p = \\text{softmax}(W\\boldsymbol{x}). $Let's explore this in the code cell below:\n"
   ]
  },
  {
   "cell_type": "code",
   "execution_count": 4,
   "metadata": {
    "colab": {
     "base_uri": "https://localhost:8080/"
    },
    "id": "mClmHIeowL4V",
    "outputId": "668d6797-fd9f-4ac1-9221-8242dc9585e7"
   },
   "outputs": [
    {
     "name": "stdout",
     "output_type": "stream",
     "text": [
      "probability distribution tensor([0.3756, 0.5226, 0.5730, 0.6186, 0.6962])\n"
     ]
    }
   ],
   "source": [
    "# remember, our goal is to produce a probability distribution over the \n",
    "# next word, conditioned on the prefix representation x. This distribution\n",
    "# is thus over the entire vocabulary (i.e., it is a 5-dimensional vector).\n",
    "# take a look at the dimensionality of x, and you'll notice that it is a \n",
    "# 10-dimensional vector. first, we need to **project** this representation\n",
    "# down to 5-d. We'll do this using the below matrix:\n",
    "\n",
    "W = torch.rand(10, 5)\n",
    "\n",
    "# use this matrix to project x to a 5-d space, and then\n",
    "# use the softmax function to convert it to a probability distribution.\n",
    "# this will involve using PyTorch to compute a matrix/vector product.\n",
    "# look through the documentation if you're confused (torch.nn.functional.softmax)\n",
    "# please store your final probability distribution in the \"probs\" variable.\n",
    "\n",
    "### YOUR CODE HERE\n",
    "probs = torch.rand(5)\n",
    "x = torch.unsqueeze(x, 1)\n",
    "W = torch.transpose(W, 0, 1)\n",
    "m = torch.nn.Softmax(dim=1)\n",
    "props = m(torch.matmul(W, x))\n",
    "\n",
    "### DO NOT MODIFY THE BELOW LINE!\n",
    "print('probability distribution', probs)\n"
   ]
  },
  {
   "cell_type": "markdown",
   "metadata": {
    "id": "UOlrqnSqZ3H8"
   },
   "source": [
    "##Question 3.4 (15 points)\n",
    "So far, we have looked at just a single prefix (\"Alice talked to\"). In practice, it is common for us to compute many prefixes in one computation, as this enables us to take advantage of GPU parallelism and also obtain better gradient approximations (we'll talk more about the latter point later). This is called *batching*, where each prefix is an example in a larger batch. Here, you'll redo the computations from the previous cells, but instead of having one prefix, you'll have a batch of two prefixes. The final output of this cell should be a 2x5 matrix that contains two probability distributions, one for each prefix. **NOTE: YOU WILL LOSE POINTS IF YOU USE ANY LOOPS IN YOUR ANSWER!** Your code should be completely vectorized (a few large computations is faster than many smaller ones)."
   ]
  },
  {
   "cell_type": "code",
   "execution_count": 5,
   "metadata": {
    "colab": {
     "base_uri": "https://localhost:8080/"
    },
    "id": "OZarWwkESM7-",
    "outputId": "d3f89a2e-6f30-4304-c115-d4d9fb676c3d"
   },
   "outputs": [
    {
     "name": "stdout",
     "output_type": "stream",
     "text": [
      "batch embedding tensor size:  torch.Size([2, 3, 10])\n",
      "batch probability distributions: tensor([[    0.0370,     0.0704,     0.8874,     0.0047,     0.0005],\n",
      "        [    0.0370,     0.0704,     0.8874,     0.0047,     0.0005]],\n",
      "       grad_fn=<SoftmaxBackward0>)\n"
     ]
    }
   ],
   "source": [
    "\n",
    "# for this problem, we'll just copy our old prefix over three times\n",
    "# to form a batch. in practice, each example in the batch would be different.\n",
    "batch_indices = torch.cat(2 * [indices]).reshape((2, 3))\n",
    "batch_embs = embeddings(batch_indices)\n",
    "print('batch embedding tensor size: ', batch_embs.size())\n",
    "\n",
    "# now, follow the same procedure as before:\n",
    "# step 1: compose each example's embeddings into a single representation\n",
    "# using element-wise addition. HINT: check out the \"dim\" argument of the torch.sum function!\n",
    "\n",
    "# step 2: project each composed representation into a 5-d space using matrix W\n",
    "# step 3: use the softmax function to obtain a 2x5 matrix with the probability distributions\n",
    "\n",
    "# please store this probability matrix in the \"batch_probs\" variable.\n",
    "\n",
    "batch_probs = torch.rand(2,5)\n",
    "\n",
    "W = torch.rand(10, 5)\n",
    "comp = torch.sum(batch_embs, 1)\n",
    "proj = torch.matmul(comp, W)\n",
    "m = torch.nn.Softmax(dim=1)\n",
    "batch_probs = m(proj)\n",
    "\n",
    "### DO NOT MODIFY THE BELOW LINE\n",
    "print(\"batch probability distributions:\", batch_probs)"
   ]
  },
  {
   "cell_type": "markdown",
   "metadata": {
    "id": "bTxHxdG5BpQU"
   },
   "source": [
    "## Question 4 (20 points)\n",
    "\n",
    "Choose  one  paper  from  [EMNLP 2021](https://aclanthology.org/events/emnlp-2021/#2021-emnlp-main) that you find interesting. A good way to do this is by scanning the titles and abstracts; there are hundreds of papers so take your time before selecting one!  Then, write a summary in  your own words of the paper you chose. Your summary should answer the following questions: what is its motivation? Why should anyone care about it? Were there things in the paper that you didn't understand at all? What were they? Fill out the below cell, and make sure to write 2-4 paragraphs for the summary to receive full credit! "
   ]
  },
  {
   "cell_type": "markdown",
   "metadata": {
    "id": "hpg8eU9wNBci"
   },
   "source": [
    "**Title of paper**: Semantic Novelty Detection in Natural Language Descriptions\n",
    "\n",
    "**Authors**: Nianzu Ma, Alexander Politowicz, Sahisnu Mazumder, Jiahua Chen†, Bing Liu†, Eric Robertson, Scott Grigsby\n",
    "\n",
    "**Conference name**: Proceedings of the 2021 Conference on Empirical Methods in Natural Language Processing\n",
    "\n",
    "**URL**: https://aclanthology.org/2021.emnlp-main.66/\n",
    "\n",
    "**Your summary**:\n",
    "Motivation: Novelty/Anomaly detection research so far mainly coarse-grained. Meaning it works in a topic or document level. It detects whether text belongs to that class or not. This paper authors introduce a new problem: fine-grained semantic novelty detec-tion. Whether text reflects real world or not. In this case main class becomes real-world.\n",
    "\n",
    "Why should anyone care about it? This is a novel approach and introduces a new problem and solves it at the same time. Additionally it enables other research to be conducted on this topic.\n",
    "\n",
    "Things I didn't Understand: Main thing I miss is how did we combine dependency parsing outpud with fixed embeddings. How did we get the input to feed into GAT's?"
   ]
  }
 ],
 "metadata": {
  "colab": {
   "provenance": []
  },
  "kernelspec": {
   "display_name": "Python 3 (ipykernel)",
   "language": "python",
   "name": "python3"
  },
  "language_info": {
   "codemirror_mode": {
    "name": "ipython",
    "version": 3
   },
   "file_extension": ".py",
   "mimetype": "text/x-python",
   "name": "python",
   "nbconvert_exporter": "python",
   "pygments_lexer": "ipython3",
   "version": "3.9.12"
  }
 },
 "nbformat": 4,
 "nbformat_minor": 1
}
